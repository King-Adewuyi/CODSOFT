{
 "cells": [
  {
   "cell_type": "markdown",
   "id": "efedc5d5-4420-4530-b89a-dc58ec5b0590",
   "metadata": {},
   "source": [
    "<h1>IMPORTING THE DEPENDENCIES|</h1>"
   ]
  },
  {
   "cell_type": "code",
   "execution_count": 1,
   "id": "b643c66a-e511-4a49-a407-6d2b6aceb9bf",
   "metadata": {},
   "outputs": [],
   "source": [
    "import numpy as np\n",
    "import pandas as pd\n",
    "import matplotlib.pyplot as plt\n",
    "import seaborn as sns"
   ]
  },
  {
   "cell_type": "markdown",
   "id": "661f48a1-3036-4652-8f39-658a5a9f3b4b",
   "metadata": {},
   "source": [
    "<h1>DATA COLLECTION & PROCESSING</h1>"
   ]
  },
  {
   "cell_type": "code",
   "execution_count": 2,
   "id": "c260a62a-75f1-4f17-9e82-729f18d2be18",
   "metadata": {},
   "outputs": [],
   "source": [
    "data= pd.read_csv(\"C:/salesprediction/advertising.csv\")"
   ]
  },
  {
   "cell_type": "code",
   "execution_count": 3,
   "id": "466c07a0-d033-41b5-bacf-39455b327dc7",
   "metadata": {},
   "outputs": [
    {
     "data": {
      "text/html": [
       "<div>\n",
       "<style scoped>\n",
       "    .dataframe tbody tr th:only-of-type {\n",
       "        vertical-align: middle;\n",
       "    }\n",
       "\n",
       "    .dataframe tbody tr th {\n",
       "        vertical-align: top;\n",
       "    }\n",
       "\n",
       "    .dataframe thead th {\n",
       "        text-align: right;\n",
       "    }\n",
       "</style>\n",
       "<table border=\"1\" class=\"dataframe\">\n",
       "  <thead>\n",
       "    <tr style=\"text-align: right;\">\n",
       "      <th></th>\n",
       "      <th>TV</th>\n",
       "      <th>Radio</th>\n",
       "      <th>Newspaper</th>\n",
       "      <th>Sales</th>\n",
       "    </tr>\n",
       "  </thead>\n",
       "  <tbody>\n",
       "    <tr>\n",
       "      <th>0</th>\n",
       "      <td>230.1</td>\n",
       "      <td>37.8</td>\n",
       "      <td>69.2</td>\n",
       "      <td>22.1</td>\n",
       "    </tr>\n",
       "    <tr>\n",
       "      <th>1</th>\n",
       "      <td>44.5</td>\n",
       "      <td>39.3</td>\n",
       "      <td>45.1</td>\n",
       "      <td>10.4</td>\n",
       "    </tr>\n",
       "    <tr>\n",
       "      <th>2</th>\n",
       "      <td>17.2</td>\n",
       "      <td>45.9</td>\n",
       "      <td>69.3</td>\n",
       "      <td>12.0</td>\n",
       "    </tr>\n",
       "    <tr>\n",
       "      <th>3</th>\n",
       "      <td>151.5</td>\n",
       "      <td>41.3</td>\n",
       "      <td>58.5</td>\n",
       "      <td>16.5</td>\n",
       "    </tr>\n",
       "    <tr>\n",
       "      <th>4</th>\n",
       "      <td>180.8</td>\n",
       "      <td>10.8</td>\n",
       "      <td>58.4</td>\n",
       "      <td>17.9</td>\n",
       "    </tr>\n",
       "  </tbody>\n",
       "</table>\n",
       "</div>"
      ],
      "text/plain": [
       "      TV  Radio  Newspaper  Sales\n",
       "0  230.1   37.8       69.2   22.1\n",
       "1   44.5   39.3       45.1   10.4\n",
       "2   17.2   45.9       69.3   12.0\n",
       "3  151.5   41.3       58.5   16.5\n",
       "4  180.8   10.8       58.4   17.9"
      ]
     },
     "execution_count": 3,
     "metadata": {},
     "output_type": "execute_result"
    }
   ],
   "source": [
    "data.head()"
   ]
  },
  {
   "cell_type": "code",
   "execution_count": 4,
   "id": "a3577ac0-071c-4426-84f4-45947ca41b77",
   "metadata": {},
   "outputs": [
    {
     "data": {
      "text/plain": [
       "(200, 4)"
      ]
     },
     "execution_count": 4,
     "metadata": {},
     "output_type": "execute_result"
    }
   ],
   "source": [
    "#first thing is to check the number of rows and columns \n",
    "data.shape"
   ]
  },
  {
   "cell_type": "code",
   "execution_count": 5,
   "id": "f3222276-38e0-4da5-9342-266aae7f8ac8",
   "metadata": {},
   "outputs": [
    {
     "name": "stdout",
     "output_type": "stream",
     "text": [
      "<class 'pandas.core.frame.DataFrame'>\n",
      "RangeIndex: 200 entries, 0 to 199\n",
      "Data columns (total 4 columns):\n",
      " #   Column     Non-Null Count  Dtype  \n",
      "---  ------     --------------  -----  \n",
      " 0   TV         200 non-null    float64\n",
      " 1   Radio      200 non-null    float64\n",
      " 2   Newspaper  200 non-null    float64\n",
      " 3   Sales      200 non-null    float64\n",
      "dtypes: float64(4)\n",
      "memory usage: 6.4 KB\n"
     ]
    }
   ],
   "source": [
    "data.info()"
   ]
  },
  {
   "cell_type": "markdown",
   "id": "8d2f81a2-6a12-40b2-9722-860fd1e9c99b",
   "metadata": {},
   "source": [
    "<h1>HANDLING THE MISSING VALUES </h1>"
   ]
  },
  {
   "cell_type": "code",
   "execution_count": 8,
   "id": "436edd5f-ee2d-404c-bfdd-9073cabfdc75",
   "metadata": {},
   "outputs": [
    {
     "data": {
      "text/plain": [
       "TV           0\n",
       "Radio        0\n",
       "Newspaper    0\n",
       "Sales        0\n",
       "dtype: int64"
      ]
     },
     "execution_count": 8,
     "metadata": {},
     "output_type": "execute_result"
    }
   ],
   "source": [
    "#So after checking the info some values are missing so let us check the missing values in each column\n",
    "data.isnull().sum()"
   ]
  },
  {
   "cell_type": "markdown",
   "id": "0b10a2cc-7480-4642-a173-7343ad07b9de",
   "metadata": {},
   "source": [
    "<h1>DATA ANALYSIS</h1>"
   ]
  },
  {
   "cell_type": "code",
   "execution_count": 9,
   "id": "8f5bd5bf-3a01-4f4b-a9e4-c38b36b88cbd",
   "metadata": {},
   "outputs": [
    {
     "data": {
      "text/html": [
       "<div>\n",
       "<style scoped>\n",
       "    .dataframe tbody tr th:only-of-type {\n",
       "        vertical-align: middle;\n",
       "    }\n",
       "\n",
       "    .dataframe tbody tr th {\n",
       "        vertical-align: top;\n",
       "    }\n",
       "\n",
       "    .dataframe thead th {\n",
       "        text-align: right;\n",
       "    }\n",
       "</style>\n",
       "<table border=\"1\" class=\"dataframe\">\n",
       "  <thead>\n",
       "    <tr style=\"text-align: right;\">\n",
       "      <th></th>\n",
       "      <th>TV</th>\n",
       "      <th>Radio</th>\n",
       "      <th>Newspaper</th>\n",
       "      <th>Sales</th>\n",
       "    </tr>\n",
       "  </thead>\n",
       "  <tbody>\n",
       "    <tr>\n",
       "      <th>count</th>\n",
       "      <td>200.000000</td>\n",
       "      <td>200.000000</td>\n",
       "      <td>200.000000</td>\n",
       "      <td>200.000000</td>\n",
       "    </tr>\n",
       "    <tr>\n",
       "      <th>mean</th>\n",
       "      <td>147.042500</td>\n",
       "      <td>23.264000</td>\n",
       "      <td>30.554000</td>\n",
       "      <td>15.130500</td>\n",
       "    </tr>\n",
       "    <tr>\n",
       "      <th>std</th>\n",
       "      <td>85.854236</td>\n",
       "      <td>14.846809</td>\n",
       "      <td>21.778621</td>\n",
       "      <td>5.283892</td>\n",
       "    </tr>\n",
       "    <tr>\n",
       "      <th>min</th>\n",
       "      <td>0.700000</td>\n",
       "      <td>0.000000</td>\n",
       "      <td>0.300000</td>\n",
       "      <td>1.600000</td>\n",
       "    </tr>\n",
       "    <tr>\n",
       "      <th>25%</th>\n",
       "      <td>74.375000</td>\n",
       "      <td>9.975000</td>\n",
       "      <td>12.750000</td>\n",
       "      <td>11.000000</td>\n",
       "    </tr>\n",
       "    <tr>\n",
       "      <th>50%</th>\n",
       "      <td>149.750000</td>\n",
       "      <td>22.900000</td>\n",
       "      <td>25.750000</td>\n",
       "      <td>16.000000</td>\n",
       "    </tr>\n",
       "    <tr>\n",
       "      <th>75%</th>\n",
       "      <td>218.825000</td>\n",
       "      <td>36.525000</td>\n",
       "      <td>45.100000</td>\n",
       "      <td>19.050000</td>\n",
       "    </tr>\n",
       "    <tr>\n",
       "      <th>max</th>\n",
       "      <td>296.400000</td>\n",
       "      <td>49.600000</td>\n",
       "      <td>114.000000</td>\n",
       "      <td>27.000000</td>\n",
       "    </tr>\n",
       "  </tbody>\n",
       "</table>\n",
       "</div>"
      ],
      "text/plain": [
       "               TV       Radio   Newspaper       Sales\n",
       "count  200.000000  200.000000  200.000000  200.000000\n",
       "mean   147.042500   23.264000   30.554000   15.130500\n",
       "std     85.854236   14.846809   21.778621    5.283892\n",
       "min      0.700000    0.000000    0.300000    1.600000\n",
       "25%     74.375000    9.975000   12.750000   11.000000\n",
       "50%    149.750000   22.900000   25.750000   16.000000\n",
       "75%    218.825000   36.525000   45.100000   19.050000\n",
       "max    296.400000   49.600000  114.000000   27.000000"
      ]
     },
     "execution_count": 9,
     "metadata": {},
     "output_type": "execute_result"
    }
   ],
   "source": [
    "data.describe()"
   ]
  },
  {
   "cell_type": "markdown",
   "id": "4b67d583-aac7-4157-94ca-2130427e8136",
   "metadata": {},
   "source": [
    "<h1>DATA VISUALIZATION</h1>"
   ]
  },
  {
   "cell_type": "code",
   "execution_count": 12,
   "id": "4745aa1b-2f5a-4be2-9abd-a6f7fd619170",
   "metadata": {},
   "outputs": [
    {
     "data": {
      "text/plain": [
       "<seaborn.axisgrid.PairGrid at 0x1a9676a4590>"
      ]
     },
     "execution_count": 12,
     "metadata": {},
     "output_type": "execute_result"
    },
    {
     "data": {
      "image/png": "[encoded data removed]",
      "text/plain": [
       "<Figure size 750x250 with 3 Axes>"
      ]
     },
     "metadata": {},
     "output_type": "display_data"
    }
   ],
   "source": [
    "sns.pairplot(data, x_vars=['TV', 'Radio', 'Newspaper'], y_vars=['Sales'], kind='scatter')\n"
   ]
  },
  {
   "cell_type": "code",
   "execution_count": 13,
   "id": "69778403-bbc8-42d7-855b-6fc6cb53d629",
   "metadata": {},
   "outputs": [
    {
     "data": {
      "image/png": "[encoded data removed]",
      "text/plain": [
       "<Figure size 1000x1000 with 3 Axes>"
      ]
     },
     "metadata": {},
     "output_type": "display_data"
    }
   ],
   "source": [
    "fig, axs = plt.subplots(3, figsize=(10, 10))  # Correct tuple for figsize and proper variable assignment\n",
    "sns.boxplot(data['TV'], color='red', ax=axs[0])  # Use `color='red'` and proper list indexing for axs\n",
    "sns.boxplot(data['Newspaper'], color='green', ax=axs[1])  # Change to axs[1] for the second plot\n",
    "sns.boxplot(data['Radio'], color='blue', ax=axs[2])  # Use axs[2] for the third plot\n",
    "plt.tight_layout()  # Adjust layout to prevent overlap\n"
   ]
  },
  {
   "cell_type": "code",
   "execution_count": 14,
   "id": "2a8850f3-f0f5-4302-9c5e-673d7f7dbedd",
   "metadata": {},
   "outputs": [
    {
     "data": {
      "image/png": "[encoded data removed]",
      "text/plain": [
       "<Figure size 1000x1000 with 3 Axes>"
      ]
     },
     "metadata": {},
     "output_type": "display_data"
    }
   ],
   "source": [
    "fig, axs = plt.subplots(3, figsize=(10, 10))  # Correct tuple for figsize\n",
    "sns.histplot(data['TV'], color='red', kde=True, ax=axs[0])  # Changed adv to data\n",
    "sns.histplot(data['Newspaper'], color='green', kde=True, ax=axs[1])  # Fixed kde parameter and data name\n",
    "sns.histplot(data['Radio'], color='blue', kde=True, ax=axs[2])  # Changed ax placement and fixed data name\n",
    "plt.tight_layout()  # Correct layout adjustment method"
   ]
  },
  {
   "cell_type": "code",
   "execution_count": 15,
   "id": "9f1e7a19-3475-41df-91ee-489f9355c79b",
   "metadata": {},
   "outputs": [
    {
     "data": {
      "text/plain": [
       "<Axes: >"
      ]
     },
     "execution_count": 15,
     "metadata": {},
     "output_type": "execute_result"
    },
    {
     "data": {
      "image/png": "[encoded data removed]",
      "text/plain": [
       "<Figure size 640x480 with 2 Axes>"
      ]
     },
     "metadata": {},
     "output_type": "display_data"
    }
   ],
   "source": [
    "# Compute the correlation matrix for the selected features\n",
    "corr = data[['TV', 'Radio', 'Newspaper']].corr()\n",
    "\n",
    "# Create a heatmap to visualize the correlation matrix\n",
    "# 'annot=True' displays the correlation values on the heatmap\n",
    "# 'cmap=\"plasma\"' sets the color map for the heatmap\n",
    "sns.heatmap(corr, annot=True, cmap='plasma')\n"
   ]
  },
  {
   "cell_type": "markdown",
   "id": "5aa78f78-99b9-45f5-8fe8-2af86b4acbd4",
   "metadata": {},
   "source": [
    "<h1>Model Selection and Data Fitting</h1>"
   ]
  },
  {
   "cell_type": "code",
   "execution_count": 21,
   "id": "b8c47809-cd88-48b9-a1a5-3f8b55c04f8f",
   "metadata": {},
   "outputs": [
    {
     "name": "stdout",
     "output_type": "stream",
     "text": [
      "Requirement already satisfied: scikit-learn in c:\\salesprediction\\salesprediction\\lib\\site-packages (1.6.0)\n",
      "Requirement already satisfied: numpy>=1.19.5 in c:\\salesprediction\\salesprediction\\lib\\site-packages (from scikit-learn) (2.2.1)\n",
      "Requirement already satisfied: scipy>=1.6.0 in c:\\salesprediction\\salesprediction\\lib\\site-packages (from scikit-learn) (1.15.0)\n",
      "Requirement already satisfied: joblib>=1.2.0 in c:\\salesprediction\\salesprediction\\lib\\site-packages (from scikit-learn) (1.4.2)\n",
      "Requirement already satisfied: threadpoolctl>=3.1.0 in c:\\salesprediction\\salesprediction\\lib\\site-packages (from scikit-learn) (3.5.0)\n"
     ]
    },
    {
     "name": "stderr",
     "output_type": "stream",
     "text": [
      "\n",
      "[notice] A new release of pip is available: 24.2 -> 24.3.1\n",
      "[notice] To update, run: python.exe -m pip install --upgrade pip\n"
     ]
    }
   ],
   "source": [
    "!pip install scikit-learn\n"
   ]
  },
  {
   "cell_type": "code",
   "execution_count": 23,
   "id": "d3e63007-2592-4d4a-ae2b-96749a61054d",
   "metadata": {},
   "outputs": [],
   "source": [
    "# Importing necessary libraries for model selection, regression, and performance evaluation\n",
    "from sklearn.model_selection import train_test_split  # Splits data into training and testing sets\n",
    "from sklearn.linear_model import LinearRegression  # Linear regression model for prediction\n",
    "from sklearn.metrics import mean_squared_error  # Evaluates the model's performance\n"
   ]
  },
  {
   "cell_type": "code",
   "execution_count": 24,
   "id": "f51fb60d-8b3e-4be0-8853-e4f6f4192653",
   "metadata": {},
   "outputs": [],
   "source": [
    "# Define the feature columns (X) and target variable (y)\n",
    "X_test = data[['TV', 'Radio', 'Newspaper']]  # Features: TV, Radio, Newspaper\n",
    "y_test = data['Sales']  # Target variable: Sales\n"
   ]
  },
  {
   "cell_type": "code",
   "execution_count": 26,
   "id": "70b3addd-f211-4faa-8112-f11589ba51f0",
   "metadata": {},
   "outputs": [
    {
     "name": "stdout",
     "output_type": "stream",
     "text": [
      "Collecting statsmodels\n",
      "  Downloading statsmodels-0.14.4-cp313-cp313-win_amd64.whl.metadata (9.5 kB)\n",
      "Requirement already satisfied: numpy<3,>=1.22.3 in c:\\salesprediction\\salesprediction\\lib\\site-packages (from statsmodels) (2.2.1)\n",
      "Requirement already satisfied: scipy!=1.9.2,>=1.8 in c:\\salesprediction\\salesprediction\\lib\\site-packages (from statsmodels) (1.15.0)\n",
      "Requirement already satisfied: pandas!=2.1.0,>=1.4 in c:\\salesprediction\\salesprediction\\lib\\site-packages (from statsmodels) (2.2.3)\n",
      "Collecting patsy>=0.5.6 (from statsmodels)\n",
      "  Downloading patsy-1.0.1-py2.py3-none-any.whl.metadata (3.3 kB)\n",
      "Requirement already satisfied: packaging>=21.3 in c:\\salesprediction\\salesprediction\\lib\\site-packages (from statsmodels) (24.2)\n",
      "Requirement already satisfied: python-dateutil>=2.8.2 in c:\\salesprediction\\salesprediction\\lib\\site-packages (from pandas!=2.1.0,>=1.4->statsmodels) (2.9.0.post0)\n",
      "Requirement already satisfied: pytz>=2020.1 in c:\\salesprediction\\salesprediction\\lib\\site-packages (from pandas!=2.1.0,>=1.4->statsmodels) (2024.2)\n",
      "Requirement already satisfied: tzdata>=2022.7 in c:\\salesprediction\\salesprediction\\lib\\site-packages (from pandas!=2.1.0,>=1.4->statsmodels) (2024.2)\n",
      "Requirement already satisfied: six>=1.5 in c:\\salesprediction\\salesprediction\\lib\\site-packages (from python-dateutil>=2.8.2->pandas!=2.1.0,>=1.4->statsmodels) (1.17.0)\n",
      "Downloading statsmodels-0.14.4-cp313-cp313-win_amd64.whl (9.8 MB)\n",
      "   ---------------------------------------- 0.0/9.8 MB ? eta -:--:--\n",
      "   ---------------------------------------- 0.0/9.8 MB ? eta -:--:--\n",
      "   ---------------------------------------- 0.0/9.8 MB ? eta -:--:--\n",
      "   ---------------------------------------- 0.0/9.8 MB ? eta -:--:--\n",
      "   - -------------------------------------- 0.3/9.8 MB ? eta -:--:--\n",
      "   - -------------------------------------- 0.3/9.8 MB ? eta -:--:--\n",
      "   -- ------------------------------------- 0.5/9.8 MB 547.0 kB/s eta 0:00:17\n",
      "   -- ------------------------------------- 0.5/9.8 MB 547.0 kB/s eta 0:00:17\n",
      "   -- ------------------------------------- 0.5/9.8 MB 547.0 kB/s eta 0:00:17\n",
      "   --- ------------------------------------ 0.8/9.8 MB 465.9 kB/s eta 0:00:20\n",
      "   --- ------------------------------------ 0.8/9.8 MB 465.9 kB/s eta 0:00:20\n",
      "   ---- ----------------------------------- 1.0/9.8 MB 499.5 kB/s eta 0:00:18\n",
      "   ---- ----------------------------------- 1.0/9.8 MB 499.5 kB/s eta 0:00:18\n",
      "   ---- ----------------------------------- 1.0/9.8 MB 499.5 kB/s eta 0:00:18\n",
      "   ----- ---------------------------------- 1.3/9.8 MB 513.8 kB/s eta 0:00:17\n",
      "   ----- ---------------------------------- 1.3/9.8 MB 513.8 kB/s eta 0:00:17\n",
      "   ------ --------------------------------- 1.6/9.8 MB 525.8 kB/s eta 0:00:16\n",
      "   ------ --------------------------------- 1.6/9.8 MB 525.8 kB/s eta 0:00:16\n",
      "   ------- -------------------------------- 1.8/9.8 MB 534.0 kB/s eta 0:00:15\n",
      "   ------- -------------------------------- 1.8/9.8 MB 534.0 kB/s eta 0:00:15\n",
      "   -------- ------------------------------- 2.1/9.8 MB 543.9 kB/s eta 0:00:15\n",
      "   -------- ------------------------------- 2.1/9.8 MB 543.9 kB/s eta 0:00:15\n",
      "   --------- ------------------------------ 2.4/9.8 MB 552.6 kB/s eta 0:00:14\n",
      "   --------- ------------------------------ 2.4/9.8 MB 552.6 kB/s eta 0:00:14\n",
      "   ---------- ----------------------------- 2.6/9.8 MB 554.9 kB/s eta 0:00:13\n",
      "   ---------- ----------------------------- 2.6/9.8 MB 554.9 kB/s eta 0:00:13\n",
      "   ----------- ---------------------------- 2.9/9.8 MB 561.0 kB/s eta 0:00:13\n",
      "   ----------- ---------------------------- 2.9/9.8 MB 561.0 kB/s eta 0:00:13\n",
      "   ------------ --------------------------- 3.1/9.8 MB 559.1 kB/s eta 0:00:12\n",
      "   ------------ --------------------------- 3.1/9.8 MB 559.1 kB/s eta 0:00:12\n",
      "   ------------- -------------------------- 3.4/9.8 MB 562.0 kB/s eta 0:00:12\n",
      "   ------------- -------------------------- 3.4/9.8 MB 562.0 kB/s eta 0:00:12\n",
      "   ------------- -------------------------- 3.4/9.8 MB 562.0 kB/s eta 0:00:12\n",
      "   -------------- ------------------------- 3.7/9.8 MB 558.5 kB/s eta 0:00:12\n",
      "   -------------- ------------------------- 3.7/9.8 MB 558.5 kB/s eta 0:00:12\n",
      "   ---------------- ----------------------- 3.9/9.8 MB 561.5 kB/s eta 0:00:11\n",
      "   ---------------- ----------------------- 3.9/9.8 MB 561.5 kB/s eta 0:00:11\n",
      "   ---------------- ----------------------- 3.9/9.8 MB 561.5 kB/s eta 0:00:11\n",
      "   ----------------- ---------------------- 4.2/9.8 MB 549.7 kB/s eta 0:00:11\n",
      "   ----------------- ---------------------- 4.2/9.8 MB 549.7 kB/s eta 0:00:11\n",
      "   ----------------- ---------------------- 4.2/9.8 MB 549.7 kB/s eta 0:00:11\n",
      "   ----------------- ---------------------- 4.2/9.8 MB 549.7 kB/s eta 0:00:11\n",
      "   ----------------- ---------------------- 4.2/9.8 MB 549.7 kB/s eta 0:00:11\n",
      "   ------------------ --------------------- 4.5/9.8 MB 517.4 kB/s eta 0:00:11\n",
      "   ------------------ --------------------- 4.5/9.8 MB 517.4 kB/s eta 0:00:11\n",
      "   ------------------ --------------------- 4.5/9.8 MB 517.4 kB/s eta 0:00:11\n",
      "   ------------------ --------------------- 4.5/9.8 MB 517.4 kB/s eta 0:00:11\n",
      "   ------------------- -------------------- 4.7/9.8 MB 493.3 kB/s eta 0:00:11\n",
      "   ------------------- -------------------- 4.7/9.8 MB 493.3 kB/s eta 0:00:11\n",
      "   ------------------- -------------------- 4.7/9.8 MB 493.3 kB/s eta 0:00:11\n",
      "   ------------------- -------------------- 4.7/9.8 MB 493.3 kB/s eta 0:00:11\n",
      "   -------------------- ------------------- 5.0/9.8 MB 473.1 kB/s eta 0:00:11\n",
      "   -------------------- ------------------- 5.0/9.8 MB 473.1 kB/s eta 0:00:11\n",
      "   -------------------- ------------------- 5.0/9.8 MB 473.1 kB/s eta 0:00:11\n",
      "   -------------------- ------------------- 5.0/9.8 MB 473.1 kB/s eta 0:00:11\n",
      "   -------------------- ------------------- 5.0/9.8 MB 473.1 kB/s eta 0:00:11\n",
      "   -------------------- ------------------- 5.0/9.8 MB 473.1 kB/s eta 0:00:11\n",
      "   --------------------- ------------------ 5.2/9.8 MB 449.9 kB/s eta 0:00:11\n",
      "   --------------------- ------------------ 5.2/9.8 MB 449.9 kB/s eta 0:00:11\n",
      "   --------------------- ------------------ 5.2/9.8 MB 449.9 kB/s eta 0:00:11\n",
      "   ---------------------- ----------------- 5.5/9.8 MB 444.1 kB/s eta 0:00:10\n",
      "   ---------------------- ----------------- 5.5/9.8 MB 444.1 kB/s eta 0:00:10\n",
      "   ---------------------- ----------------- 5.5/9.8 MB 444.1 kB/s eta 0:00:10\n",
      "   ---------------------- ----------------- 5.5/9.8 MB 444.1 kB/s eta 0:00:10\n",
      "   ----------------------- ---------------- 5.8/9.8 MB 442.0 kB/s eta 0:00:10\n",
      "   ----------------------- ---------------- 5.8/9.8 MB 442.0 kB/s eta 0:00:10\n",
      "   ----------------------- ---------------- 5.8/9.8 MB 442.0 kB/s eta 0:00:10\n",
      "   ------------------------ --------------- 6.0/9.8 MB 440.6 kB/s eta 0:00:09\n",
      "   ------------------------ --------------- 6.0/9.8 MB 440.6 kB/s eta 0:00:09\n",
      "   ------------------------- -------------- 6.3/9.8 MB 442.3 kB/s eta 0:00:08\n",
      "   ------------------------- -------------- 6.3/9.8 MB 442.3 kB/s eta 0:00:08\n",
      "   ------------------------- -------------- 6.3/9.8 MB 442.3 kB/s eta 0:00:08\n",
      "   -------------------------- ------------- 6.6/9.8 MB 442.4 kB/s eta 0:00:08\n",
      "   -------------------------- ------------- 6.6/9.8 MB 442.4 kB/s eta 0:00:08\n",
      "   --------------------------- ------------ 6.8/9.8 MB 448.9 kB/s eta 0:00:07\n",
      "   --------------------------- ------------ 6.8/9.8 MB 448.9 kB/s eta 0:00:07\n",
      "   ---------------------------- ----------- 7.1/9.8 MB 456.9 kB/s eta 0:00:06\n",
      "   ----------------------------- ---------- 7.3/9.8 MB 463.4 kB/s eta 0:00:06\n",
      "   ----------------------------- ---------- 7.3/9.8 MB 463.4 kB/s eta 0:00:06\n",
      "   ------------------------------ --------- 7.6/9.8 MB 472.8 kB/s eta 0:00:05\n",
      "   -------------------------------- ------- 7.9/9.8 MB 481.7 kB/s eta 0:00:05\n",
      "   --------------------------------- ------ 8.1/9.8 MB 491.0 kB/s eta 0:00:04\n",
      "   --------------------------------- ------ 8.1/9.8 MB 491.0 kB/s eta 0:00:04\n",
      "   ---------------------------------- ----- 8.4/9.8 MB 497.1 kB/s eta 0:00:03\n",
      "   ------------------------------------ --- 8.9/9.8 MB 517.5 kB/s eta 0:00:02\n",
      "   ------------------------------------ --- 8.9/9.8 MB 517.5 kB/s eta 0:00:02\n",
      "   -------------------------------------- - 9.4/9.8 MB 536.1 kB/s eta 0:00:01\n",
      "   ---------------------------------------  9.7/9.8 MB 544.4 kB/s eta 0:00:01\n",
      "   ---------------------------------------- 9.8/9.8 MB 546.1 kB/s eta 0:00:00\n",
      "Downloading patsy-1.0.1-py2.py3-none-any.whl (232 kB)\n",
      "Installing collected packages: patsy, statsmodels\n",
      "Successfully installed patsy-1.0.1 statsmodels-0.14.4\n"
     ]
    },
    {
     "name": "stderr",
     "output_type": "stream",
     "text": [
      "\n",
      "[notice] A new release of pip is available: 24.2 -> 24.3.1\n",
      "[notice] To update, run: python.exe -m pip install --upgrade pip\n"
     ]
    }
   ],
   "source": [
    "!pip install statsmodels\n"
   ]
  },
  {
   "cell_type": "code",
   "execution_count": 28,
   "id": "a9ab1f22-29bd-432f-b0ff-5a362339fe27",
   "metadata": {},
   "outputs": [],
   "source": [
    "import statsmodels.api as sm\n"
   ]
  },
  {
   "cell_type": "code",
   "execution_count": 29,
   "id": "29b92e52-cbf3-465a-a4d1-a0f5b3593abb",
   "metadata": {},
   "outputs": [
    {
     "name": "stdout",
     "output_type": "stream",
     "text": [
      "                            OLS Regression Results                            \n",
      "==============================================================================\n",
      "Dep. Variable:                  Sales   R-squared:                       0.903\n",
      "Model:                            OLS   Adj. R-squared:                  0.901\n",
      "Method:                 Least Squares   F-statistic:                     605.4\n",
      "Date:                Sun, 05 Jan 2025   Prob (F-statistic):           8.13e-99\n",
      "Time:                        00:58:57   Log-Likelihood:                -383.34\n",
      "No. Observations:                 200   AIC:                             774.7\n",
      "Df Residuals:                     196   BIC:                             787.9\n",
      "Df Model:                           3                                         \n",
      "Covariance Type:            nonrobust                                         \n",
      "==============================================================================\n",
      "                 coef    std err          t      P>|t|      [0.025      0.975]\n",
      "------------------------------------------------------------------------------\n",
      "const          4.6251      0.308     15.041      0.000       4.019       5.232\n",
      "TV             0.0544      0.001     39.592      0.000       0.052       0.057\n",
      "Radio          0.1070      0.008     12.604      0.000       0.090       0.124\n",
      "Newspaper      0.0003      0.006      0.058      0.954      -0.011       0.012\n",
      "==============================================================================\n",
      "Omnibus:                       16.081   Durbin-Watson:                   2.251\n",
      "Prob(Omnibus):                  0.000   Jarque-Bera (JB):               27.655\n",
      "Skew:                          -0.431   Prob(JB):                     9.88e-07\n",
      "Kurtosis:                       4.605   Cond. No.                         454.\n",
      "==============================================================================\n",
      "\n",
      "Notes:\n",
      "[1] Standard Errors assume that the covariance matrix of the errors is correctly specified.\n"
     ]
    }
   ],
   "source": [
    "# Add a constant to the feature set for the intercept term in the regression model\n",
    "X1_test = sm.add_constant(X_test)  # Adds a constant column (intercept) to the feature set\n",
    "\n",
    "# Define the regression model using Ordinary Least Squares (OLS)\n",
    "reg = sm.OLS(y_test, X1_test)  # y_test is the target, X1_test is the features with a constant\n",
    "\n",
    "# Fit the regression model to the data\n",
    "model = reg.fit()  # Fit the model to the data\n",
    "\n",
    "# Display the summary of the regression results\n",
    "print(model.summary())  # Prints the model summary with statistical details\n"
   ]
  },
  {
   "cell_type": "code",
   "execution_count": 30,
   "id": "7fe298c0-14f9-4719-813a-b7003386f617",
   "metadata": {},
   "outputs": [
    {
     "data": {
      "text/plain": [
       "0      0.879028\n",
       "1     -0.868248\n",
       "2      1.503791\n",
       "3     -0.812447\n",
       "4      2.255863\n",
       "         ...   \n",
       "195    0.494510\n",
       "196    3.719059\n",
       "197   -0.459287\n",
       "198    0.917780\n",
       "199    0.214880\n",
       "Length: 200, dtype: float64"
      ]
     },
     "execution_count": 30,
     "metadata": {},
     "output_type": "execute_result"
    }
   ],
   "source": [
    "residual = model.resid\n",
    "residual"
   ]
  },
  {
   "cell_type": "markdown",
   "id": "0cf1bb60-4279-40de-9b9f-caba343bf5dc",
   "metadata": {},
   "source": [
    "<h1>MODEL TRAINING</h1>"
   ]
  },
  {
   "cell_type": "code",
   "execution_count": 31,
   "id": "5ac49aea-b404-4114-b241-0a7550d0e4ed",
   "metadata": {},
   "outputs": [],
   "source": [
    "# Split the data into training and testing sets\n",
    "# x_train, x_test: Features for training and testing\n",
    "# y_train, y_test: Target values for training and testing\n",
    "from sklearn.model_selection import train_test_split\n",
    "\n",
    "x_train, x_test, y_train, y_test = train_test_split(X_test, y_test, test_size=0.2, random_state=22)\n",
    "\n",
    "# Explanation:\n",
    "# - X_test is the feature data for testing\n",
    "# - y_test is the target data for testing\n",
    "# - test_size=0.2 means 20% of the data will be used for testing, and 80% for training\n",
    "# - random_state=22 ensures reproducibili\n"
   ]
  },
  {
   "cell_type": "code",
   "execution_count": 32,
   "id": "3db22c2a-a6e3-48ce-a1ec-6e2e05950518",
   "metadata": {},
   "outputs": [
    {
     "name": "stdout",
     "output_type": "stream",
     "text": [
      "160 40 160 40\n"
     ]
    }
   ],
   "source": [
    "# Display the lengths of the training and testing sets\n",
    "print(len(x_train), len(x_test), len(y_train), len(y_test))\n"
   ]
  },
  {
   "cell_type": "code",
   "execution_count": 33,
   "id": "74715ce9-556f-41ef-91de-a7708712779f",
   "metadata": {},
   "outputs": [
    {
     "data": {
      "text/html": [
       "<style>#sk-container-id-1 {\n",
       "  /* Definition of color scheme common for light and dark mode */\n",
       "  --sklearn-color-text: #000;\n",
       "  --sklearn-color-text-muted: #666;\n",
       "  --sklearn-color-line: gray;\n",
       "  /* Definition of color scheme for unfitted estimators */\n",
       "  --sklearn-color-unfitted-level-0: #fff5e6;\n",
       "  --sklearn-color-unfitted-level-1: #f6e4d2;\n",
       "  --sklearn-color-unfitted-level-2: #ffe0b3;\n",
       "  --sklearn-color-unfitted-level-3: chocolate;\n",
       "  /* Definition of color scheme for fitted estimators */\n",
       "  --sklearn-color-fitted-level-0: #f0f8ff;\n",
       "  --sklearn-color-fitted-level-1: #d4ebff;\n",
       "  --sklearn-color-fitted-level-2: #b3dbfd;\n",
       "  --sklearn-color-fitted-level-3: cornflowerblue;\n",
       "\n",
       "  /* Specific color for light theme */\n",
       "  --sklearn-color-text-on-default-background: var(--sg-text-color, var(--theme-code-foreground, var(--jp-content-font-color1, black)));\n",
       "  --sklearn-color-background: var(--sg-background-color, var(--theme-background, var(--jp-layout-color0, white)));\n",
       "  --sklearn-color-border-box: var(--sg-text-color, var(--theme-code-foreground, var(--jp-content-font-color1, black)));\n",
       "  --sklearn-color-icon: #696969;\n",
       "\n",
       "  @media (prefers-color-scheme: dark) {\n",
       "    /* Redefinition of color scheme for dark theme */\n",
       "    --sklearn-color-text-on-default-background: var(--sg-text-color, var(--theme-code-foreground, var(--jp-content-font-color1, white)));\n",
       "    --sklearn-color-background: var(--sg-background-color, var(--theme-background, var(--jp-layout-color0, #111)));\n",
       "    --sklearn-color-border-box: var(--sg-text-color, var(--theme-code-foreground, var(--jp-content-font-color1, white)));\n",
       "    --sklearn-color-icon: #878787;\n",
       "  }\n",
       "}\n",
       "\n",
       "#sk-container-id-1 {\n",
       "  color: var(--sklearn-color-text);\n",
       "}\n",
       "\n",
       "#sk-container-id-1 pre {\n",
       "  padding: 0;\n",
       "}\n",
       "\n",
       "#sk-container-id-1 input.sk-hidden--visually {\n",
       "  border: 0;\n",
       "  clip: rect(1px 1px 1px 1px);\n",
       "  clip: rect(1px, 1px, 1px, 1px);\n",
       "  height: 1px;\n",
       "  margin: -1px;\n",
       "  overflow: hidden;\n",
       "  padding: 0;\n",
       "  position: absolute;\n",
       "  width: 1px;\n",
       "}\n",
       "\n",
       "#sk-container-id-1 div.sk-dashed-wrapped {\n",
       "  border: 1px dashed var(--sklearn-color-line);\n",
       "  margin: 0 0.4em 0.5em 0.4em;\n",
       "  box-sizing: border-box;\n",
       "  padding-bottom: 0.4em;\n",
       "  background-color: var(--sklearn-color-background);\n",
       "}\n",
       "\n",
       "#sk-container-id-1 div.sk-container {\n",
       "  /* jupyter's `normalize.less` sets `[hidden] { display: none; }`\n",
       "     but bootstrap.min.css set `[hidden] { display: none !important; }`\n",
       "     so we also need the `!important` here to be able to override the\n",
       "     default hidden behavior on the sphinx rendered scikit-learn.org.\n",
       "     See: https://github.com/scikit-learn/scikit-learn/issues/21755 */\n",
       "  display: inline-block !important;\n",
       "  position: relative;\n",
       "}\n",
       "\n",
       "#sk-container-id-1 div.sk-text-repr-fallback {\n",
       "  display: none;\n",
       "}\n",
       "\n",
       "div.sk-parallel-item,\n",
       "div.sk-serial,\n",
       "div.sk-item {\n",
       "  /* draw centered vertical line to link estimators */\n",
       "  background-image: linear-gradient(var(--sklearn-color-text-on-default-background), var(--sklearn-color-text-on-default-background));\n",
       "  background-size: 2px 100%;\n",
       "  background-repeat: no-repeat;\n",
       "  background-position: center center;\n",
       "}\n",
       "\n",
       "/* Parallel-specific style estimator block */\n",
       "\n",
       "#sk-container-id-1 div.sk-parallel-item::after {\n",
       "  content: \"\";\n",
       "  width: 100%;\n",
       "  border-bottom: 2px solid var(--sklearn-color-text-on-default-background);\n",
       "  flex-grow: 1;\n",
       "}\n",
       "\n",
       "#sk-container-id-1 div.sk-parallel {\n",
       "  display: flex;\n",
       "  align-items: stretch;\n",
       "  justify-content: center;\n",
       "  background-color: var(--sklearn-color-background);\n",
       "  position: relative;\n",
       "}\n",
       "\n",
       "#sk-container-id-1 div.sk-parallel-item {\n",
       "  display: flex;\n",
       "  flex-direction: column;\n",
       "}\n",
       "\n",
       "#sk-container-id-1 div.sk-parallel-item:first-child::after {\n",
       "  align-self: flex-end;\n",
       "  width: 50%;\n",
       "}\n",
       "\n",
       "#sk-container-id-1 div.sk-parallel-item:last-child::after {\n",
       "  align-self: flex-start;\n",
       "  width: 50%;\n",
       "}\n",
       "\n",
       "#sk-container-id-1 div.sk-parallel-item:only-child::after {\n",
       "  width: 0;\n",
       "}\n",
       "\n",
       "/* Serial-specific style estimator block */\n",
       "\n",
       "#sk-container-id-1 div.sk-serial {\n",
       "  display: flex;\n",
       "  flex-direction: column;\n",
       "  align-items: center;\n",
       "  background-color: var(--sklearn-color-background);\n",
       "  padding-right: 1em;\n",
       "  padding-left: 1em;\n",
       "}\n",
       "\n",
       "\n",
       "/* Toggleable style: style used for estimator/Pipeline/ColumnTransformer box that is\n",
       "clickable and can be expanded/collapsed.\n",
       "- Pipeline and ColumnTransformer use this feature and define the default style\n",
       "- Estimators will overwrite some part of the style using the `sk-estimator` class\n",
       "*/\n",
       "\n",
       "/* Pipeline and ColumnTransformer style (default) */\n",
       "\n",
       "#sk-container-id-1 div.sk-toggleable {\n",
       "  /* Default theme specific background. It is overwritten whether we have a\n",
       "  specific estimator or a Pipeline/ColumnTransformer */\n",
       "  background-color: var(--sklearn-color-background);\n",
       "}\n",
       "\n",
       "/* Toggleable label */\n",
       "#sk-container-id-1 label.sk-toggleable__label {\n",
       "  cursor: pointer;\n",
       "  display: flex;\n",
       "  width: 100%;\n",
       "  margin-bottom: 0;\n",
       "  padding: 0.5em;\n",
       "  box-sizing: border-box;\n",
       "  text-align: center;\n",
       "  align-items: start;\n",
       "  justify-content: space-between;\n",
       "  gap: 0.5em;\n",
       "}\n",
       "\n",
       "#sk-container-id-1 label.sk-toggleable__label .caption {\n",
       "  font-size: 0.6rem;\n",
       "  font-weight: lighter;\n",
       "  color: var(--sklearn-color-text-muted);\n",
       "}\n",
       "\n",
       "#sk-container-id-1 label.sk-toggleable__label-arrow:before {\n",
       "  /* Arrow on the left of the label */\n",
       "  content: \"▸\";\n",
       "  float: left;\n",
       "  margin-right: 0.25em;\n",
       "  color: var(--sklearn-color-icon);\n",
       "}\n",
       "\n",
       "#sk-container-id-1 label.sk-toggleable__label-arrow:hover:before {\n",
       "  color: var(--sklearn-color-text);\n",
       "}\n",
       "\n",
       "/* Toggleable content - dropdown */\n",
       "\n",
       "#sk-container-id-1 div.sk-toggleable__content {\n",
       "  max-height: 0;\n",
       "  max-width: 0;\n",
       "  overflow: hidden;\n",
       "  text-align: left;\n",
       "  /* unfitted */\n",
       "  background-color: var(--sklearn-color-unfitted-level-0);\n",
       "}\n",
       "\n",
       "#sk-container-id-1 div.sk-toggleable__content.fitted {\n",
       "  /* fitted */\n",
       "  background-color: var(--sklearn-color-fitted-level-0);\n",
       "}\n",
       "\n",
       "#sk-container-id-1 div.sk-toggleable__content pre {\n",
       "  margin: 0.2em;\n",
       "  border-radius: 0.25em;\n",
       "  color: var(--sklearn-color-text);\n",
       "  /* unfitted */\n",
       "  background-color: var(--sklearn-color-unfitted-level-0);\n",
       "}\n",
       "\n",
       "#sk-container-id-1 div.sk-toggleable__content.fitted pre {\n",
       "  /* unfitted */\n",
       "  background-color: var(--sklearn-color-fitted-level-0);\n",
       "}\n",
       "\n",
       "#sk-container-id-1 input.sk-toggleable__control:checked~div.sk-toggleable__content {\n",
       "  /* Expand drop-down */\n",
       "  max-height: 200px;\n",
       "  max-width: 100%;\n",
       "  overflow: auto;\n",
       "}\n",
       "\n",
       "#sk-container-id-1 input.sk-toggleable__control:checked~label.sk-toggleable__label-arrow:before {\n",
       "  content: \"▾\";\n",
       "}\n",
       "\n",
       "/* Pipeline/ColumnTransformer-specific style */\n",
       "\n",
       "#sk-container-id-1 div.sk-label input.sk-toggleable__control:checked~label.sk-toggleable__label {\n",
       "  color: var(--sklearn-color-text);\n",
       "  background-color: var(--sklearn-color-unfitted-level-2);\n",
       "}\n",
       "\n",
       "#sk-container-id-1 div.sk-label.fitted input.sk-toggleable__control:checked~label.sk-toggleable__label {\n",
       "  background-color: var(--sklearn-color-fitted-level-2);\n",
       "}\n",
       "\n",
       "/* Estimator-specific style */\n",
       "\n",
       "/* Colorize estimator box */\n",
       "#sk-container-id-1 div.sk-estimator input.sk-toggleable__control:checked~label.sk-toggleable__label {\n",
       "  /* unfitted */\n",
       "  background-color: var(--sklearn-color-unfitted-level-2);\n",
       "}\n",
       "\n",
       "#sk-container-id-1 div.sk-estimator.fitted input.sk-toggleable__control:checked~label.sk-toggleable__label {\n",
       "  /* fitted */\n",
       "  background-color: var(--sklearn-color-fitted-level-2);\n",
       "}\n",
       "\n",
       "#sk-container-id-1 div.sk-label label.sk-toggleable__label,\n",
       "#sk-container-id-1 div.sk-label label {\n",
       "  /* The background is the default theme color */\n",
       "  color: var(--sklearn-color-text-on-default-background);\n",
       "}\n",
       "\n",
       "/* On hover, darken the color of the background */\n",
       "#sk-container-id-1 div.sk-label:hover label.sk-toggleable__label {\n",
       "  color: var(--sklearn-color-text);\n",
       "  background-color: var(--sklearn-color-unfitted-level-2);\n",
       "}\n",
       "\n",
       "/* Label box, darken color on hover, fitted */\n",
       "#sk-container-id-1 div.sk-label.fitted:hover label.sk-toggleable__label.fitted {\n",
       "  color: var(--sklearn-color-text);\n",
       "  background-color: var(--sklearn-color-fitted-level-2);\n",
       "}\n",
       "\n",
       "/* Estimator label */\n",
       "\n",
       "#sk-container-id-1 div.sk-label label {\n",
       "  font-family: monospace;\n",
       "  font-weight: bold;\n",
       "  display: inline-block;\n",
       "  line-height: 1.2em;\n",
       "}\n",
       "\n",
       "#sk-container-id-1 div.sk-label-container {\n",
       "  text-align: center;\n",
       "}\n",
       "\n",
       "/* Estimator-specific */\n",
       "#sk-container-id-1 div.sk-estimator {\n",
       "  font-family: monospace;\n",
       "  border: 1px dotted var(--sklearn-color-border-box);\n",
       "  border-radius: 0.25em;\n",
       "  box-sizing: border-box;\n",
       "  margin-bottom: 0.5em;\n",
       "  /* unfitted */\n",
       "  background-color: var(--sklearn-color-unfitted-level-0);\n",
       "}\n",
       "\n",
       "#sk-container-id-1 div.sk-estimator.fitted {\n",
       "  /* fitted */\n",
       "  background-color: var(--sklearn-color-fitted-level-0);\n",
       "}\n",
       "\n",
       "/* on hover */\n",
       "#sk-container-id-1 div.sk-estimator:hover {\n",
       "  /* unfitted */\n",
       "  background-color: var(--sklearn-color-unfitted-level-2);\n",
       "}\n",
       "\n",
       "#sk-container-id-1 div.sk-estimator.fitted:hover {\n",
       "  /* fitted */\n",
       "  background-color: var(--sklearn-color-fitted-level-2);\n",
       "}\n",
       "\n",
       "/* Specification for estimator info (e.g. \"i\" and \"?\") */\n",
       "\n",
       "/* Common style for \"i\" and \"?\" */\n",
       "\n",
       ".sk-estimator-doc-link,\n",
       "a:link.sk-estimator-doc-link,\n",
       "a:visited.sk-estimator-doc-link {\n",
       "  float: right;\n",
       "  font-size: smaller;\n",
       "  line-height: 1em;\n",
       "  font-family: monospace;\n",
       "  background-color: var(--sklearn-color-background);\n",
       "  border-radius: 1em;\n",
       "  height: 1em;\n",
       "  width: 1em;\n",
       "  text-decoration: none !important;\n",
       "  margin-left: 0.5em;\n",
       "  text-align: center;\n",
       "  /* unfitted */\n",
       "  border: var(--sklearn-color-unfitted-level-1) 1pt solid;\n",
       "  color: var(--sklearn-color-unfitted-level-1);\n",
       "}\n",
       "\n",
       ".sk-estimator-doc-link.fitted,\n",
       "a:link.sk-estimator-doc-link.fitted,\n",
       "a:visited.sk-estimator-doc-link.fitted {\n",
       "  /* fitted */\n",
       "  border: var(--sklearn-color-fitted-level-1) 1pt solid;\n",
       "  color: var(--sklearn-color-fitted-level-1);\n",
       "}\n",
       "\n",
       "/* On hover */\n",
       "div.sk-estimator:hover .sk-estimator-doc-link:hover,\n",
       ".sk-estimator-doc-link:hover,\n",
       "div.sk-label-container:hover .sk-estimator-doc-link:hover,\n",
       ".sk-estimator-doc-link:hover {\n",
       "  /* unfitted */\n",
       "  background-color: var(--sklearn-color-unfitted-level-3);\n",
       "  color: var(--sklearn-color-background);\n",
       "  text-decoration: none;\n",
       "}\n",
       "\n",
       "div.sk-estimator.fitted:hover .sk-estimator-doc-link.fitted:hover,\n",
       ".sk-estimator-doc-link.fitted:hover,\n",
       "div.sk-label-container:hover .sk-estimator-doc-link.fitted:hover,\n",
       ".sk-estimator-doc-link.fitted:hover {\n",
       "  /* fitted */\n",
       "  background-color: var(--sklearn-color-fitted-level-3);\n",
       "  color: var(--sklearn-color-background);\n",
       "  text-decoration: none;\n",
       "}\n",
       "\n",
       "/* Span, style for the box shown on hovering the info icon */\n",
       ".sk-estimator-doc-link span {\n",
       "  display: none;\n",
       "  z-index: 9999;\n",
       "  position: relative;\n",
       "  font-weight: normal;\n",
       "  right: .2ex;\n",
       "  padding: .5ex;\n",
       "  margin: .5ex;\n",
       "  width: min-content;\n",
       "  min-width: 20ex;\n",
       "  max-width: 50ex;\n",
       "  color: var(--sklearn-color-text);\n",
       "  box-shadow: 2pt 2pt 4pt #999;\n",
       "  /* unfitted */\n",
       "  background: var(--sklearn-color-unfitted-level-0);\n",
       "  border: .5pt solid var(--sklearn-color-unfitted-level-3);\n",
       "}\n",
       "\n",
       ".sk-estimator-doc-link.fitted span {\n",
       "  /* fitted */\n",
       "  background: var(--sklearn-color-fitted-level-0);\n",
       "  border: var(--sklearn-color-fitted-level-3);\n",
       "}\n",
       "\n",
       ".sk-estimator-doc-link:hover span {\n",
       "  display: block;\n",
       "}\n",
       "\n",
       "/* \"?\"-specific style due to the `<a>` HTML tag */\n",
       "\n",
       "#sk-container-id-1 a.estimator_doc_link {\n",
       "  float: right;\n",
       "  font-size: 1rem;\n",
       "  line-height: 1em;\n",
       "  font-family: monospace;\n",
       "  background-color: var(--sklearn-color-background);\n",
       "  border-radius: 1rem;\n",
       "  height: 1rem;\n",
       "  width: 1rem;\n",
       "  text-decoration: none;\n",
       "  /* unfitted */\n",
       "  color: var(--sklearn-color-unfitted-level-1);\n",
       "  border: var(--sklearn-color-unfitted-level-1) 1pt solid;\n",
       "}\n",
       "\n",
       "#sk-container-id-1 a.estimator_doc_link.fitted {\n",
       "  /* fitted */\n",
       "  border: var(--sklearn-color-fitted-level-1) 1pt solid;\n",
       "  color: var(--sklearn-color-fitted-level-1);\n",
       "}\n",
       "\n",
       "/* On hover */\n",
       "#sk-container-id-1 a.estimator_doc_link:hover {\n",
       "  /* unfitted */\n",
       "  background-color: var(--sklearn-color-unfitted-level-3);\n",
       "  color: var(--sklearn-color-background);\n",
       "  text-decoration: none;\n",
       "}\n",
       "\n",
       "#sk-container-id-1 a.estimator_doc_link.fitted:hover {\n",
       "  /* fitted */\n",
       "  background-color: var(--sklearn-color-fitted-level-3);\n",
       "}\n",
       "</style><div id=\"sk-container-id-1\" class=\"sk-top-container\"><div class=\"sk-text-repr-fallback\"><pre>LinearRegression()</pre><b>In a Jupyter environment, please rerun this cell to show the HTML representation or trust the notebook. <br />On GitHub, the HTML representation is unable to render, please try loading this page with nbviewer.org.</b></div><div class=\"sk-container\" hidden><div class=\"sk-item\"><div class=\"sk-estimator fitted sk-toggleable\"><input class=\"sk-toggleable__control sk-hidden--visually\" id=\"sk-estimator-id-1\" type=\"checkbox\" checked><label for=\"sk-estimator-id-1\" class=\"sk-toggleable__label fitted sk-toggleable__label-arrow\"><div><div>LinearRegression</div></div><div><a class=\"sk-estimator-doc-link fitted\" rel=\"noreferrer\" target=\"_blank\" href=\"https://scikit-learn.org/1.6/modules/generated/sklearn.linear_model.LinearRegression.html\">?<span>Documentation for LinearRegression</span></a><span class=\"sk-estimator-doc-link fitted\">i<span>Fitted</span></span></div></label><div class=\"sk-toggleable__content fitted\"><pre>LinearRegression()</pre></div> </div></div></div></div>"
      ],
      "text/plain": [
       "LinearRegression()"
      ]
     },
     "execution_count": 33,
     "metadata": {},
     "output_type": "execute_result"
    }
   ],
   "source": [
    "# Initialize the Linear Regression model\n",
    "lr = LinearRegression()\n",
    "\n",
    "# Fit the model on the training data\n",
    "lr.fit(x_train, y_train)\n",
    "\n",
    "# Explanation:\n",
    "# - lr = LinearRegression() initializes the linear regression model.\n",
    "# - lr.fit(x_train, y_train) trains the model using the training data (x_train for features and y_train for the target).\n"
   ]
  },
  {
   "cell_type": "code",
   "execution_count": 34,
   "id": "c73783c5-7366-436b-8049-fb4f82399f43",
   "metadata": {},
   "outputs": [
    {
     "data": {
      "text/plain": [
       "array([11.50507377, 12.84657448, 10.04888489, 25.09113852, 17.37413795,\n",
       "        8.05165564,  6.34463349,  8.52288741, 20.86952766, 10.67375447,\n",
       "        6.90960915, 21.3370343 , 21.14114468, 19.63689246, 15.26478613,\n",
       "       10.59635524, 21.76659335, 23.73688945, 12.24645122,  9.96345917,\n",
       "       16.48537769, 20.26806554, 20.25869843, 15.95683049, 15.8195745 ,\n",
       "       18.01683959, 12.26397709,  9.64733425, 17.92498036, 23.68316413,\n",
       "       13.2979892 , 17.52679223,  8.84379613, 13.26050311,  9.7435341 ,\n",
       "       10.59426893, 16.60937563, 18.29939873, 11.2821882 ,  9.37792978])"
      ]
     },
     "execution_count": 34,
     "metadata": {},
     "output_type": "execute_result"
    }
   ],
   "source": [
    "y_predict=lr.predict(x_test)\n",
    "y_predict"
   ]
  },
  {
   "cell_type": "code",
   "execution_count": 35,
   "id": "a3a66a1f-00db-4a91-9f14-a1106a0c57e9",
   "metadata": {},
   "outputs": [
    {
     "data": {
      "text/plain": [
       "144    12.3\n",
       "157    10.1\n",
       "32     13.2\n",
       "98     25.4\n",
       "163    18.0\n",
       "78      5.3\n",
       "91      7.3\n",
       "170     8.4\n",
       "124    19.7\n",
       "75      8.7\n",
       "189     6.7\n",
       "176    20.2\n",
       "104    20.7\n",
       "20     18.0\n",
       "87     16.0\n",
       "46     10.6\n",
       "128    24.7\n",
       "36     25.4\n",
       "135    11.6\n",
       "12      9.2\n",
       "194    17.3\n",
       "92     19.4\n",
       "142    20.1\n",
       "160    16.4\n",
       "50     16.4\n",
       "199    18.4\n",
       "73     11.0\n",
       "166     8.0\n",
       "41     17.1\n",
       "30     21.4\n",
       "161    13.3\n",
       "3      16.5\n",
       "66     11.0\n",
       "180    15.5\n",
       "191    11.9\n",
       "13     13.7\n",
       "99     17.2\n",
       "153    16.0\n",
       "6      11.8\n",
       "158     7.3\n",
       "Name: Sales, dtype: float64"
      ]
     },
     "execution_count": 35,
     "metadata": {},
     "output_type": "execute_result"
    }
   ],
   "source": [
    "y_test"
   ]
  },
  {
   "cell_type": "code",
   "execution_count": null,
   "id": "d97d0609-a678-409f-9926-b95422cf5b7a",
   "metadata": {},
   "outputs": [],
   "source": []
  }
 ],
 "metadata": {
  "kernelspec": {
   "display_name": "salesprediction",
   "language": "python",
   "name": "salesprediction"
  },
  "language_info": {
   "codemirror_mode": {
    "name": "ipython",
    "version": 3
   },
   "file_extension": ".py",
   "mimetype": "text/x-python",
   "name": "python",
   "nbconvert_exporter": "python",
   "pygments_lexer": "ipython3",
   "version": "3.13.0"
  }
 },
 "nbformat": 4,
 "nbformat_minor": 5
}
